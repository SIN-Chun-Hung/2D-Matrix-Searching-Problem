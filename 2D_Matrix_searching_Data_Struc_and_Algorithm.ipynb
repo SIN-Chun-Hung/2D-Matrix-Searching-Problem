{
 "cells": [
  {
   "cell_type": "markdown",
   "id": "61dbe536",
   "metadata": {},
   "source": [
    "<font size=5>This research project is conducted and completed by SIN Chun Hung, a mathematician from The Hong Kong University of Science and Technology. "
   ]
  },
  {
   "cell_type": "markdown",
   "id": "5f39ea40",
   "metadata": {},
   "source": [
    "# Project on 2D Matrix Searching Problem \n",
    "\n",
    "_This topic is chosen from leetcode, please click the hyerlink attached here for reference.  [\"Search a 2D Matrix Problem Leetcode\"](https://leetcode.com/problems/search-a-2d-matrix/)._\n",
    "\n",
    "\n"
   ]
  },
  {
   "cell_type": "code",
   "execution_count": 2,
   "id": "64a55cac",
   "metadata": {},
   "outputs": [],
   "source": [
    "project_name = \"TwoDimensionMatrixSearchingP\""
   ]
  },
  {
   "cell_type": "code",
   "execution_count": 3,
   "id": "55aaf6f3",
   "metadata": {},
   "outputs": [],
   "source": [
    "!pip install jovian --upgrade --quiet"
   ]
  },
  {
   "cell_type": "code",
   "execution_count": 4,
   "id": "8062f873",
   "metadata": {},
   "outputs": [],
   "source": [
    "import jovian"
   ]
  },
  {
   "cell_type": "markdown",
   "id": "ca99e0cb",
   "metadata": {},
   "source": [
    "## Problem Statement\n",
    "\n",
    "\n",
    "Write an efficient algorithm that searches for a target value in an m x n integer matrix. This matrix has the following properties: \n",
    "1. Integers in each row are sorted from left to right. \n",
    "2. The first integer of each row is greater than the last integer of the previous row.\n",
    "\n",
    "\n",
    "Source: [\"Search a 2D Matrix Problem Leetcode\"](https://leetcode.com/problems/search-a-2d-matrix/)"
   ]
  },
  {
   "cell_type": "markdown",
   "id": "9c8db804",
   "metadata": {},
   "source": [
    "## The Method\n",
    "\n",
    "Here's the systematic strategy we'll apply for solving problems:\n",
    "\n",
    "1. State the problem clearly. Identify the input & output formats.\n",
    "2. Come up with some example inputs & outputs. Try to cover all edge cases.\n",
    "3. Come up with a correct solution for the problem. State it in plain English.\n",
    "4. Implement the solution and test it using example inputs. Fix bugs, if any.\n",
    "5. Analyze the algorithm's complexity and identify inefficiencies, if any.\n",
    "6. Apply the right technique to overcome the inefficiency. Repeat steps 3 to 6.\n",
    "\n",
    "This approach is explained in detail in [Lesson 1](https://jovian.ai/learn/data-structures-and-algorithms-in-python/lesson/lesson-1-binary-search-linked-lists-and-complexity) of the course. Let's apply this approach step-by-step."
   ]
  },
  {
   "cell_type": "markdown",
   "id": "95f5eb8d",
   "metadata": {},
   "source": [
    "## Solution\n",
    "\n",
    "\n",
    "### 1. State the problem clearly. Identify the input & output formats.\n",
    "\n",
    "While this problem is stated clearly enough, it's always useful to try and express in your own words, in a way that makes it most clear for you. \n",
    "\n",
    "\n",
    "**Problem**\n",
    "\n",
    "Given a m x n integers matrix which has properties \n",
    "\n",
    "1. eaach rows are sorted in ascending order. \n",
    "2. the first position integer in each row is larger than the last position of integer in the previous row.  \n",
    "\n",
    "Create a suitable, low time and calculation cost algorithm to find the target given number if the number is in the m x n matrix. \n",
    "\n",
    "\n",
    "We just assume each row integer are unique to simplify some data structure case without loss of generality.\n",
    "\n",
    "<br/>\n",
    "\n",
    "\n",
    "**Input**\n",
    "\n",
    "1. twodlist\n",
    "2. target value\n",
    "\n",
    "(add more if required)\n",
    "\n",
    "\n",
    "**Output**\n",
    "\n",
    "1. True\n",
    "\n",
    "\n",
    "(add more if required)\n",
    "\n",
    "<br/>\n",
    "\n",
    "Based on the above, we can now create a signature of our function:"
   ]
  },
  {
   "cell_type": "code",
   "execution_count": 5,
   "id": "d8ecc3c8",
   "metadata": {},
   "outputs": [],
   "source": [
    "# Create a function signature here. The body of the function can contain a single statement: pass\n",
    "def matrix_find_target(twodlist, target_value):\n",
    "    pass"
   ]
  },
  {
   "cell_type": "markdown",
   "id": "31673b31",
   "metadata": {},
   "source": [
    "### 2. Come up with some example inputs & outputs. Try to cover all edge cases.\n",
    "\n",
    "Our function should be able to handle any set of valid inputs we pass into it. Here's a list of some possible variations we might encounter:\n",
    "\n",
    "1. same size 2D matrix and target value can or cannot be found.\n",
    "2. different size 2D matrix and target value can or cannot be found.\n",
    "3. relatively large size of 2D matrix and target value can or cannot be found.\n",
    "4. single value matrix and target value can or cannot be found.\n",
    "5. each row single value matrix and target value can or cannot be found.\n",
    "6. empty error matrix (means the real world do not exist such matrix) in arbitrary size , target value cannot be found.\n",
    "\n",
    "(add more if required)\n",
    "\n",
    "\n",
    "We'll express our test cases as dictionaries, to test them easily. Each dictionary will contain 2 keys: `input` (a dictionary itself containing one key for each argument to the function and `output` (the expected result from the function). "
   ]
  },
  {
   "cell_type": "code",
   "execution_count": 10,
   "id": "713aa89c",
   "metadata": {},
   "outputs": [],
   "source": [
    "# 1. same size 2D matrix and target value can or cannot be found.\n",
    "test1 = {\n",
    "    'input': {\n",
    "     'twodlist': [[2,4,5,7,9],\n",
    "                  [11,20,21,22,45],\n",
    "                  [50,51,53,79,80],\n",
    "                  [81,84,85,87,89],\n",
    "                  [92,94,95,97,99]], \n",
    "     'target_value': 85\n",
    "    },\n",
    "    'output': True\n",
    "}"
   ]
  },
  {
   "cell_type": "code",
   "execution_count": 11,
   "id": "2ffe8f45",
   "metadata": {},
   "outputs": [],
   "source": [
    "# 1. same size 2D matrix and target value can or cannot be found.\n",
    "test2 = {\n",
    "    'input': {\n",
    "     'twodlist': [[2,4,5,7,9],\n",
    "                  [11,20,21,22,45],\n",
    "                  [50,51,53,79,80],\n",
    "                  [81,84,85,87,89],\n",
    "                  [92,94,95,97,99]], \n",
    "     'target_value': 70\n",
    "    },\n",
    "    'output': False\n",
    "}"
   ]
  },
  {
   "cell_type": "code",
   "execution_count": 12,
   "id": "3272a44f",
   "metadata": {},
   "outputs": [],
   "source": [
    "# 2. different size 2D matrix and target value can or cannot be found.\n",
    "test3 = {\n",
    "    'input': {\n",
    "     'twodlist': [[2,4,5,7,9],\n",
    "                  [11,20,21,22,45],\n",
    "                  [50,51,53,79,80],\n",
    "                  [81,84,85,87,89]], \n",
    "     'target_value': 79\n",
    "    },\n",
    "    'output': True\n",
    "}"
   ]
  },
  {
   "cell_type": "code",
   "execution_count": 13,
   "id": "b21db6e2",
   "metadata": {},
   "outputs": [],
   "source": [
    "# 2. different size 2D matrix and target value can or cannot be found.\n",
    "test4 = {\n",
    "    'input': {\n",
    "     'twodlist': [[2,4,5,7,9],\n",
    "                  [11,20,21,22,45],\n",
    "                  [50,51,53,79,80],\n",
    "                  [81,84,85,87,89]], \n",
    "     'target_value': 52\n",
    "    },\n",
    "    'output': False\n",
    "}"
   ]
  },
  {
   "cell_type": "code",
   "execution_count": 14,
   "id": "db6d8f27",
   "metadata": {},
   "outputs": [],
   "source": [
    "# 3. relatively large size of 2D matrix and target value can or cannot be found.\n",
    "test5 = {\n",
    "    'input': {\n",
    "     'twodlist': [[i for i in range(1,1001)],\n",
    "                  [i for i in range(1001,2001)],\n",
    "                  [i for i in range(2001,3001)],\n",
    "                  [i for i in range(3001,4001)]], \n",
    "     'target_value': 3566\n",
    "    },\n",
    "    'output': True\n",
    "}"
   ]
  },
  {
   "cell_type": "code",
   "execution_count": 15,
   "id": "410bd24f",
   "metadata": {},
   "outputs": [],
   "source": [
    "# 3. relatively large size of 2D matrix and target value can or cannot be found.\n",
    "test6 = {\n",
    "    'input': {\n",
    "     'twodlist': [[i for i in range(1,1001)],\n",
    "                  [i for i in range(1001,2001)],\n",
    "                  [i for i in range(2001,3001)],\n",
    "                  [i for i in range(3001,4001)]], \n",
    "     'target_value': 6673\n",
    "    },\n",
    "    'output': False\n",
    "}"
   ]
  },
  {
   "cell_type": "code",
   "execution_count": 16,
   "id": "9407314c",
   "metadata": {},
   "outputs": [],
   "source": [
    "# 4. single value matrix and target value can or cannot be found.\n",
    "test7 = {\n",
    "    'input': {\n",
    "     'twodlist': [[999]], \n",
    "     'target_value': 999\n",
    "    },\n",
    "    'output': True\n",
    "}"
   ]
  },
  {
   "cell_type": "code",
   "execution_count": 17,
   "id": "e211c7d3",
   "metadata": {},
   "outputs": [],
   "source": [
    "# 4. single value matrix and target value can or cannot be found.\n",
    "test8 = {\n",
    "    'input': {\n",
    "     'twodlist': [[999]], \n",
    "     'target_value': 998\n",
    "    },\n",
    "    'output': False\n",
    "}"
   ]
  },
  {
   "cell_type": "code",
   "execution_count": 18,
   "id": "823210d0",
   "metadata": {},
   "outputs": [],
   "source": [
    "# 5. each row single value matrix and target value can or cannot be found.\n",
    "test9 = {\n",
    "    'input': {\n",
    "     'twodlist': [[1],[2],[3],[4],[5]], \n",
    "     'target_value': 2\n",
    "    },\n",
    "    'output': True\n",
    "}"
   ]
  },
  {
   "cell_type": "code",
   "execution_count": 19,
   "id": "a2e363b7",
   "metadata": {},
   "outputs": [],
   "source": [
    "# 5. each row single value matrix and target value can or cannot be found.\n",
    "test10 = {\n",
    "    'input': {\n",
    "     'twodlist': [[1],[2],[3],[4],[5]], \n",
    "     'target_value': 100\n",
    "    },\n",
    "    'output': False\n",
    "}"
   ]
  },
  {
   "cell_type": "code",
   "execution_count": 20,
   "id": "3a7ff27f",
   "metadata": {},
   "outputs": [],
   "source": [
    "# 6. empty error matrix (means the real world do not exist such matrix) in arbitrary size , target value cannot be found.\n",
    "test11 = {\n",
    "    'input': {\n",
    "     'twodlist': [[],[],[],[],[]], \n",
    "     'target_value': 55\n",
    "    },\n",
    "    'output': None\n",
    "}"
   ]
  },
  {
   "cell_type": "markdown",
   "id": "1725ca50",
   "metadata": {},
   "source": [
    "Create one test case for each of the scenarios listed above. We'll store our test cases in an array called `tests`."
   ]
  },
  {
   "cell_type": "code",
   "execution_count": 21,
   "id": "62a176c2",
   "metadata": {},
   "outputs": [],
   "source": [
    "tests = [test1,test2,test3,test4,test5,test6,test7,test8,test9,test10,test11]"
   ]
  },
  {
   "cell_type": "markdown",
   "id": "40713b18",
   "metadata": {},
   "source": [
    "### 3. Come up with a correct solution for the problem. State it in plain English.\n",
    "\n",
    "Our first goal should always be to come up with a _correct_ solution to the problem, which may not necessarily be the most _efficient_ solution. Come with a correct solution and explain it in simple words below:\n",
    "\n",
    "1. Loop through all rows of the 2D matrix, check if there is empty rows.\n",
    "2. if there exists empty rows, then the input matrix is not ideal matrix, return None.\n",
    "3. if not empty, loop through all items in each rows.\n",
    "4. if one item is equal to the target value, meaning that target value can be found in that matrix. Return True.\n",
    "5. if all items cannot match the target given value, then finally return False.\n",
    "\n",
    "(add more steps if required)\n",
    "\n",
    "\n",
    "Let's save and upload our work before continuing.\n",
    "\n",
    "\n"
   ]
  },
  {
   "cell_type": "markdown",
   "id": "d9f9c154",
   "metadata": {},
   "source": [
    "###  4. Implement the solution and test it using example inputs. Fix bugs, if any."
   ]
  },
  {
   "cell_type": "code",
   "execution_count": 22,
   "id": "afcfa032",
   "metadata": {},
   "outputs": [],
   "source": [
    "def matrix_find_target(twodlist, target_value):\n",
    "    \n",
    "    # consider each row in the matrix\n",
    "    for row in twodlist:\n",
    "        \n",
    "        # if any row contains nothing, that is to say, empty case. \n",
    "        if len(row) == 0:\n",
    "            return None\n",
    "    \n",
    "        # iterate each item integer in that row     \n",
    "        for item in row:\n",
    "        \n",
    "        # if there is item same value as target value, that means we can find a value match, so result is true.\n",
    "            if item == target_value:\n",
    "                return True\n",
    "            \n",
    "    # iterate all rows, cannot find match value, return false.\n",
    "    return False"
   ]
  },
  {
   "cell_type": "markdown",
   "id": "e81d9696",
   "metadata": {},
   "source": [
    "We can test the function by passing the input to it directly or by using the `evaluate_test_case` function from `jovian`."
   ]
  },
  {
   "cell_type": "code",
   "execution_count": 23,
   "id": "971300a1",
   "metadata": {},
   "outputs": [],
   "source": [
    "from jovian.pythondsa import evaluate_test_case"
   ]
  },
  {
   "cell_type": "code",
   "execution_count": 24,
   "id": "73d9f72a",
   "metadata": {},
   "outputs": [
    {
     "name": "stdout",
     "output_type": "stream",
     "text": [
      "\n",
      "Input:\n",
      "{'twodlist': [[2, 4, 5, 7, 9], [11, 20, 21, 22, 45], [50, 51, 53, 79, 80], [81, 84, 85, 87, 89]], 't...\n",
      "\n",
      "Expected Output:\n",
      "True\n",
      "\n",
      "\n",
      "Actual Output:\n",
      "True\n",
      "\n",
      "Execution Time:\n",
      "0.019 ms\n",
      "\n",
      "Test Result:\n",
      "\u001b[92mPASSED\u001b[0m\n",
      "\n"
     ]
    },
    {
     "data": {
      "text/plain": [
       "(True, True, 0.019)"
      ]
     },
     "execution_count": 24,
     "metadata": {},
     "output_type": "execute_result"
    }
   ],
   "source": [
    "evaluate_test_case(matrix_find_target, test3)"
   ]
  },
  {
   "cell_type": "markdown",
   "id": "39d81aee",
   "metadata": {},
   "source": [
    "Evaluate your function against all the test cases together using the `evaluate_test_cases` (plural) function from `jovian`."
   ]
  },
  {
   "cell_type": "code",
   "execution_count": 25,
   "id": "1d14bb96",
   "metadata": {},
   "outputs": [],
   "source": [
    "from jovian.pythondsa import evaluate_test_cases"
   ]
  },
  {
   "cell_type": "code",
   "execution_count": 26,
   "id": "4743c261",
   "metadata": {},
   "outputs": [
    {
     "name": "stdout",
     "output_type": "stream",
     "text": [
      "\n",
      "\u001b[1mTEST CASE #0\u001b[0m\n",
      "\n",
      "Input:\n",
      "{'twodlist': [[2, 4, 5, 7, 9], [11, 20, 21, 22, 45], [50, 51, 53, 79, 80], [81, 84, 85, 87, 89], [92...\n",
      "\n",
      "Expected Output:\n",
      "True\n",
      "\n",
      "\n",
      "Actual Output:\n",
      "True\n",
      "\n",
      "Execution Time:\n",
      "0.013 ms\n",
      "\n",
      "Test Result:\n",
      "\u001b[92mPASSED\u001b[0m\n",
      "\n",
      "\n",
      "\u001b[1mTEST CASE #1\u001b[0m\n",
      "\n",
      "Input:\n",
      "{'twodlist': [[2, 4, 5, 7, 9], [11, 20, 21, 22, 45], [50, 51, 53, 79, 80], [81, 84, 85, 87, 89], [92...\n",
      "\n",
      "Expected Output:\n",
      "False\n",
      "\n",
      "\n",
      "Actual Output:\n",
      "False\n",
      "\n",
      "Execution Time:\n",
      "0.014 ms\n",
      "\n",
      "Test Result:\n",
      "\u001b[92mPASSED\u001b[0m\n",
      "\n",
      "\n",
      "\u001b[1mTEST CASE #2\u001b[0m\n",
      "\n",
      "Input:\n",
      "{'twodlist': [[2, 4, 5, 7, 9], [11, 20, 21, 22, 45], [50, 51, 53, 79, 80], [81, 84, 85, 87, 89]], 't...\n",
      "\n",
      "Expected Output:\n",
      "True\n",
      "\n",
      "\n",
      "Actual Output:\n",
      "True\n",
      "\n",
      "Execution Time:\n",
      "0.01 ms\n",
      "\n",
      "Test Result:\n",
      "\u001b[92mPASSED\u001b[0m\n",
      "\n",
      "\n",
      "\u001b[1mTEST CASE #3\u001b[0m\n",
      "\n",
      "Input:\n",
      "{'twodlist': [[2, 4, 5, 7, 9], [11, 20, 21, 22, 45], [50, 51, 53, 79, 80], [81, 84, 85, 87, 89]], 't...\n",
      "\n",
      "Expected Output:\n",
      "False\n",
      "\n",
      "\n",
      "Actual Output:\n",
      "False\n",
      "\n",
      "Execution Time:\n",
      "0.012 ms\n",
      "\n",
      "Test Result:\n",
      "\u001b[92mPASSED\u001b[0m\n",
      "\n",
      "\n",
      "\u001b[1mTEST CASE #4\u001b[0m\n",
      "\n",
      "Input:\n",
      "{'twodlist': [[1, 2, 3, 4, 5, 6, 7, 8, 9, 10, 11, 12, 13, 14, 15, 16, 17, 18, 19, 20, 21, 22, 23, 24...\n",
      "\n",
      "Expected Output:\n",
      "True\n",
      "\n",
      "\n",
      "Actual Output:\n",
      "True\n",
      "\n",
      "Execution Time:\n",
      "0.545 ms\n",
      "\n",
      "Test Result:\n",
      "\u001b[92mPASSED\u001b[0m\n",
      "\n",
      "\n",
      "\u001b[1mTEST CASE #5\u001b[0m\n",
      "\n",
      "Input:\n",
      "{'twodlist': [[1, 2, 3, 4, 5, 6, 7, 8, 9, 10, 11, 12, 13, 14, 15, 16, 17, 18, 19, 20, 21, 22, 23, 24...\n",
      "\n",
      "Expected Output:\n",
      "False\n",
      "\n",
      "\n",
      "Actual Output:\n",
      "False\n",
      "\n",
      "Execution Time:\n",
      "0.365 ms\n",
      "\n",
      "Test Result:\n",
      "\u001b[92mPASSED\u001b[0m\n",
      "\n",
      "\n",
      "\u001b[1mTEST CASE #6\u001b[0m\n",
      "\n",
      "Input:\n",
      "{'twodlist': [[999]], 'target_value': 999}\n",
      "\n",
      "Expected Output:\n",
      "True\n",
      "\n",
      "\n",
      "Actual Output:\n",
      "True\n",
      "\n",
      "Execution Time:\n",
      "0.007 ms\n",
      "\n",
      "Test Result:\n",
      "\u001b[92mPASSED\u001b[0m\n",
      "\n",
      "\n",
      "\u001b[1mTEST CASE #7\u001b[0m\n",
      "\n",
      "Input:\n",
      "{'twodlist': [[999]], 'target_value': 998}\n",
      "\n",
      "Expected Output:\n",
      "False\n",
      "\n",
      "\n",
      "Actual Output:\n",
      "False\n",
      "\n",
      "Execution Time:\n",
      "0.037 ms\n",
      "\n",
      "Test Result:\n",
      "\u001b[92mPASSED\u001b[0m\n",
      "\n",
      "\n",
      "\u001b[1mTEST CASE #8\u001b[0m\n",
      "\n",
      "Input:\n",
      "{'twodlist': [[1], [2], [3], [4], [5]], 'target_value': 2}\n",
      "\n",
      "Expected Output:\n",
      "True\n",
      "\n",
      "\n",
      "Actual Output:\n",
      "True\n",
      "\n",
      "Execution Time:\n",
      "0.009 ms\n",
      "\n",
      "Test Result:\n",
      "\u001b[92mPASSED\u001b[0m\n",
      "\n",
      "\n",
      "\u001b[1mTEST CASE #9\u001b[0m\n",
      "\n",
      "Input:\n",
      "{'twodlist': [[1], [2], [3], [4], [5]], 'target_value': 100}\n",
      "\n",
      "Expected Output:\n",
      "False\n",
      "\n",
      "\n",
      "Actual Output:\n",
      "False\n",
      "\n",
      "Execution Time:\n",
      "0.006 ms\n",
      "\n",
      "Test Result:\n",
      "\u001b[92mPASSED\u001b[0m\n",
      "\n",
      "\n",
      "\u001b[1mTEST CASE #10\u001b[0m\n",
      "\n",
      "Input:\n",
      "{'twodlist': [[], [], [], [], []], 'target_value': 55}\n",
      "\n",
      "Expected Output:\n",
      "None\n",
      "\n",
      "\n",
      "Actual Output:\n",
      "None\n",
      "\n",
      "Execution Time:\n",
      "0.02 ms\n",
      "\n",
      "Test Result:\n",
      "\u001b[92mPASSED\u001b[0m\n",
      "\n",
      "\n",
      "\u001b[1mSUMMARY\u001b[0m\n",
      "\n",
      "TOTAL: 11, \u001b[92mPASSED\u001b[0m: 11, \u001b[91mFAILED\u001b[0m: 0\n"
     ]
    },
    {
     "data": {
      "text/plain": [
       "[(True, True, 0.013),\n",
       " (False, True, 0.014),\n",
       " (True, True, 0.01),\n",
       " (False, True, 0.012),\n",
       " (True, True, 0.545),\n",
       " (False, True, 0.365),\n",
       " (True, True, 0.007),\n",
       " (False, True, 0.037),\n",
       " (True, True, 0.009),\n",
       " (False, True, 0.006),\n",
       " (None, True, 0.02)]"
      ]
     },
     "execution_count": 26,
     "metadata": {},
     "output_type": "execute_result"
    }
   ],
   "source": [
    "evaluate_test_cases(matrix_find_target, tests)"
   ]
  },
  {
   "cell_type": "markdown",
   "id": "a0d8d817",
   "metadata": {},
   "source": [
    "It seeems that all cases test are passed. But the function is not the best one for using.\n",
    "Let's save our work before continuing."
   ]
  },
  {
   "cell_type": "markdown",
   "id": "04b9887f",
   "metadata": {},
   "source": [
    "### 5. Analyze the algorithm's complexity and identify inefficiencies, if any."
   ]
  },
  {
   "cell_type": "markdown",
   "id": "101cbd37",
   "metadata": {},
   "source": [
    "This algorithm is not the best algorithm, we can take an investigation in the following to learn the inefficiencies."
   ]
  },
  {
   "cell_type": "markdown",
   "id": "9de287cb",
   "metadata": {},
   "source": [
    "Regarding the time complexity, given a `m x n` matrix where the matrix has n rows and in each row there are m distinct integers. The idea in algorithm is that we loop through first row of elements, then second rows of elements, then third rows up to the final row until we can find a match to the target value. Thats mean we have to loop through all elements of this matrix in the worst case in order to find the required match. This will cause the time complexity of m times n in BIG O notation."
   ]
  },
  {
   "cell_type": "code",
   "execution_count": 27,
   "id": "a8ef16d1",
   "metadata": {},
   "outputs": [],
   "source": [
    "Time_complexity = 'O(mn)'"
   ]
  },
  {
   "cell_type": "markdown",
   "id": "05a36f2a",
   "metadata": {},
   "source": [
    "Regarding the space complexity, because we need a 2D matrix of size `m x n` to be used in the algorithm. This 2D matrix is created and store in a temporary memory. This memory cost is m times n in BIG O Notation."
   ]
  },
  {
   "cell_type": "code",
   "execution_count": 28,
   "id": "2a8b3e1a",
   "metadata": {},
   "outputs": [],
   "source": [
    "Space_complexity = 'O(mn)'"
   ]
  },
  {
   "cell_type": "markdown",
   "id": "8088e702",
   "metadata": {},
   "source": [
    "### 6. Apply the right technique to overcome the inefficiency. Repeat steps 3 to 6."
   ]
  },
  {
   "cell_type": "markdown",
   "id": "6c6fa39c",
   "metadata": {},
   "source": [
    "Instead of loop through all the items in the matrix and in each row using linear search sense, we can take the advantage of the properties and structure of the input 2D matrix.\n",
    "\n",
    "1. The matrix first position of item in each row is larger than the last position of the previous row of that matrix and sort in ascending order . We can compare the target value to all the last position. If the target value is in between the former row of last position and the latter row of last position. Then pick the latter row for iteration.\n",
    "\n",
    "\n",
    "\n",
    "2. In the iteration of latter row pick in step one, we apply binery search to locate our desired value. \n",
    "\n",
    "By using the first and second technique, our time complexity can be reduced to our ideal one. "
   ]
  },
  {
   "cell_type": "markdown",
   "id": "4be76198",
   "metadata": {},
   "source": [
    "### 7. Come up with a correct solution for the problem. State it in plain English.\n",
    "\n",
    "Come with the optimized correct solution and explain it in simple words below:\n",
    "\n",
    "1. First, check the row of the input 2D matrix. If there is a row is empty, return result None.\n",
    "2. if not, compare the last position of the current row with the target value. \n",
    "3. if the target value is larger, jump to the next row compare the corresponding last position of that row to target value.\n",
    "4. If all last position is smaller than target value, target value is out of range and cannot be found in matrix. Return False.\n",
    "5. If not out of range, it will be smaller than the last position of the current row. \n",
    "6. Apply the binary search technique learnt before, until we reach the ideal number, matching the target value and return True.\n",
    "7. If binary search in that row cannot match the target value, implying the target value cannot found in that matrix. Return False.\n",
    "8. Finally, follow with the case the target value is smaller than all first position of the rows. Then this case will just enter to the last if loop and finally return False.\n",
    "\n",
    "\n",
    "(add more steps if required)\n",
    "\n",
    "\n",
    "Let's save and upload our work before continuing.\n",
    "\n"
   ]
  },
  {
   "cell_type": "markdown",
   "id": "dbb4636e",
   "metadata": {},
   "source": [
    "### 8. Implement the solution and test it using example inputs. Fix bugs, if any."
   ]
  },
  {
   "cell_type": "code",
   "execution_count": 29,
   "id": "9162c742",
   "metadata": {},
   "outputs": [
    {
     "name": "stdout",
     "output_type": "stream",
     "text": [
      "nothing\n"
     ]
    }
   ],
   "source": [
    "for i in range(1, 11):\n",
    "    if i > 0 :\n",
    "        continue\n",
    "print('nothing')"
   ]
  },
  {
   "cell_type": "code",
   "execution_count": 40,
   "id": "5a496146",
   "metadata": {},
   "outputs": [],
   "source": [
    "def matrix_find_target(twodlist, target_value):\n",
    "    \n",
    "    # consider each row in the matrix\n",
    "    for row in twodlist:\n",
    "        \n",
    "        # if any row contains nothing, that is to say, empty case. \n",
    "        if len(row) == 0:\n",
    "            return None\n",
    "        \n",
    "        # compare the last element of current row to target value\n",
    "        if target_value > row[len(row) - 1]:\n",
    "            \n",
    "            # if all last element of each row is smaller than the target value then target value cannot be found in matrix\n",
    "            if row == twodlist[len(twodlist) - 1]:\n",
    "                return False\n",
    "\n",
    "        # skip to the next row\n",
    "            continue\n",
    "            \n",
    "        if target_value <= row[len(row) - 1]:\n",
    "            \n",
    "            lo, hi = 0, len(row) - 1\n",
    "            \n",
    "            while lo <= hi:\n",
    "                mid = (lo + hi) // 2\n",
    "                mid_number = row[mid]\n",
    "\n",
    "                if mid_number == target_value:\n",
    "                    # return true for the function as the target value can be found in the matrix\n",
    "                    return True\n",
    "                elif mid_number < target_value:\n",
    "                    lo = mid + 1  \n",
    "                elif mid_number > target_value:\n",
    "                    hi = mid - 1\n",
    "\n",
    "            return False"
   ]
  },
  {
   "cell_type": "markdown",
   "id": "0c2f439a",
   "metadata": {},
   "source": [
    "We test the function using a single case first."
   ]
  },
  {
   "cell_type": "code",
   "execution_count": 41,
   "id": "ca1e893a",
   "metadata": {},
   "outputs": [
    {
     "name": "stdout",
     "output_type": "stream",
     "text": [
      "\n",
      "Input:\n",
      "{'twodlist': [[2, 4, 5, 7, 9], [11, 20, 21, 22, 45], [50, 51, 53, 79, 80], [81, 84, 85, 87, 89]], 't...\n",
      "\n",
      "Expected Output:\n",
      "True\n",
      "\n",
      "\n",
      "Actual Output:\n",
      "True\n",
      "\n",
      "Execution Time:\n",
      "0.015 ms\n",
      "\n",
      "Test Result:\n",
      "\u001b[92mPASSED\u001b[0m\n",
      "\n"
     ]
    },
    {
     "data": {
      "text/plain": [
       "(True, True, 0.015)"
      ]
     },
     "execution_count": 41,
     "metadata": {},
     "output_type": "execute_result"
    }
   ],
   "source": [
    "evaluate_test_case(matrix_find_target, test3)"
   ]
  },
  {
   "cell_type": "markdown",
   "id": "06291eca",
   "metadata": {},
   "source": [
    "We test the function using all the cases by evaluation function provided by jovian."
   ]
  },
  {
   "cell_type": "code",
   "execution_count": 42,
   "id": "75b4b3b3",
   "metadata": {},
   "outputs": [
    {
     "name": "stdout",
     "output_type": "stream",
     "text": [
      "\n",
      "\u001b[1mTEST CASE #0\u001b[0m\n",
      "\n",
      "Input:\n",
      "{'twodlist': [[2, 4, 5, 7, 9], [11, 20, 21, 22, 45], [50, 51, 53, 79, 80], [81, 84, 85, 87, 89], [92...\n",
      "\n",
      "Expected Output:\n",
      "True\n",
      "\n",
      "\n",
      "Actual Output:\n",
      "True\n",
      "\n",
      "Execution Time:\n",
      "0.024 ms\n",
      "\n",
      "Test Result:\n",
      "\u001b[92mPASSED\u001b[0m\n",
      "\n",
      "\n",
      "\u001b[1mTEST CASE #1\u001b[0m\n",
      "\n",
      "Input:\n",
      "{'twodlist': [[2, 4, 5, 7, 9], [11, 20, 21, 22, 45], [50, 51, 53, 79, 80], [81, 84, 85, 87, 89], [92...\n",
      "\n",
      "Expected Output:\n",
      "False\n",
      "\n",
      "\n",
      "Actual Output:\n",
      "False\n",
      "\n",
      "Execution Time:\n",
      "0.165 ms\n",
      "\n",
      "Test Result:\n",
      "\u001b[92mPASSED\u001b[0m\n",
      "\n",
      "\n",
      "\u001b[1mTEST CASE #2\u001b[0m\n",
      "\n",
      "Input:\n",
      "{'twodlist': [[2, 4, 5, 7, 9], [11, 20, 21, 22, 45], [50, 51, 53, 79, 80], [81, 84, 85, 87, 89]], 't...\n",
      "\n",
      "Expected Output:\n",
      "True\n",
      "\n",
      "\n",
      "Actual Output:\n",
      "True\n",
      "\n",
      "Execution Time:\n",
      "0.016 ms\n",
      "\n",
      "Test Result:\n",
      "\u001b[92mPASSED\u001b[0m\n",
      "\n",
      "\n",
      "\u001b[1mTEST CASE #3\u001b[0m\n",
      "\n",
      "Input:\n",
      "{'twodlist': [[2, 4, 5, 7, 9], [11, 20, 21, 22, 45], [50, 51, 53, 79, 80], [81, 84, 85, 87, 89]], 't...\n",
      "\n",
      "Expected Output:\n",
      "False\n",
      "\n",
      "\n",
      "Actual Output:\n",
      "False\n",
      "\n",
      "Execution Time:\n",
      "0.018 ms\n",
      "\n",
      "Test Result:\n",
      "\u001b[92mPASSED\u001b[0m\n",
      "\n",
      "\n",
      "\u001b[1mTEST CASE #4\u001b[0m\n",
      "\n",
      "Input:\n",
      "{'twodlist': [[1, 2, 3, 4, 5, 6, 7, 8, 9, 10, 11, 12, 13, 14, 15, 16, 17, 18, 19, 20, 21, 22, 23, 24...\n",
      "\n",
      "Expected Output:\n",
      "True\n",
      "\n",
      "\n",
      "Actual Output:\n",
      "True\n",
      "\n",
      "Execution Time:\n",
      "0.257 ms\n",
      "\n",
      "Test Result:\n",
      "\u001b[92mPASSED\u001b[0m\n",
      "\n",
      "\n",
      "\u001b[1mTEST CASE #5\u001b[0m\n",
      "\n",
      "Input:\n",
      "{'twodlist': [[1, 2, 3, 4, 5, 6, 7, 8, 9, 10, 11, 12, 13, 14, 15, 16, 17, 18, 19, 20, 21, 22, 23, 24...\n",
      "\n",
      "Expected Output:\n",
      "False\n",
      "\n",
      "\n",
      "Actual Output:\n",
      "False\n",
      "\n",
      "Execution Time:\n",
      "0.024 ms\n",
      "\n",
      "Test Result:\n",
      "\u001b[92mPASSED\u001b[0m\n",
      "\n",
      "\n",
      "\u001b[1mTEST CASE #6\u001b[0m\n",
      "\n",
      "Input:\n",
      "{'twodlist': [[999]], 'target_value': 999}\n",
      "\n",
      "Expected Output:\n",
      "True\n",
      "\n",
      "\n",
      "Actual Output:\n",
      "True\n",
      "\n",
      "Execution Time:\n",
      "0.008 ms\n",
      "\n",
      "Test Result:\n",
      "\u001b[92mPASSED\u001b[0m\n",
      "\n",
      "\n",
      "\u001b[1mTEST CASE #7\u001b[0m\n",
      "\n",
      "Input:\n",
      "{'twodlist': [[999]], 'target_value': 998}\n",
      "\n",
      "Expected Output:\n",
      "False\n",
      "\n",
      "\n",
      "Actual Output:\n",
      "False\n",
      "\n",
      "Execution Time:\n",
      "0.007 ms\n",
      "\n",
      "Test Result:\n",
      "\u001b[92mPASSED\u001b[0m\n",
      "\n",
      "\n",
      "\u001b[1mTEST CASE #8\u001b[0m\n",
      "\n",
      "Input:\n",
      "{'twodlist': [[1], [2], [3], [4], [5]], 'target_value': 2}\n",
      "\n",
      "Expected Output:\n",
      "True\n",
      "\n",
      "\n",
      "Actual Output:\n",
      "True\n",
      "\n",
      "Execution Time:\n",
      "0.01 ms\n",
      "\n",
      "Test Result:\n",
      "\u001b[92mPASSED\u001b[0m\n",
      "\n",
      "\n",
      "\u001b[1mTEST CASE #9\u001b[0m\n",
      "\n",
      "Input:\n",
      "{'twodlist': [[1], [2], [3], [4], [5]], 'target_value': 100}\n",
      "\n",
      "Expected Output:\n",
      "False\n",
      "\n",
      "\n",
      "Actual Output:\n",
      "False\n",
      "\n",
      "Execution Time:\n",
      "0.008 ms\n",
      "\n",
      "Test Result:\n",
      "\u001b[92mPASSED\u001b[0m\n",
      "\n",
      "\n",
      "\u001b[1mTEST CASE #10\u001b[0m\n",
      "\n",
      "Input:\n",
      "{'twodlist': [[], [], [], [], []], 'target_value': 55}\n",
      "\n",
      "Expected Output:\n",
      "None\n",
      "\n",
      "\n",
      "Actual Output:\n",
      "None\n",
      "\n",
      "Execution Time:\n",
      "0.002 ms\n",
      "\n",
      "Test Result:\n",
      "\u001b[92mPASSED\u001b[0m\n",
      "\n",
      "\n",
      "\u001b[1mSUMMARY\u001b[0m\n",
      "\n",
      "TOTAL: 11, \u001b[92mPASSED\u001b[0m: 11, \u001b[91mFAILED\u001b[0m: 0\n"
     ]
    },
    {
     "data": {
      "text/plain": [
       "[(True, True, 0.024),\n",
       " (False, True, 0.165),\n",
       " (True, True, 0.016),\n",
       " (False, True, 0.018),\n",
       " (True, True, 0.257),\n",
       " (False, True, 0.024),\n",
       " (True, True, 0.008),\n",
       " (False, True, 0.007),\n",
       " (True, True, 0.01),\n",
       " (False, True, 0.008),\n",
       " (None, True, 0.002)]"
      ]
     },
     "execution_count": 42,
     "metadata": {},
     "output_type": "execute_result"
    }
   ],
   "source": [
    "evaluate_test_cases(matrix_find_target, tests)"
   ]
  },
  {
   "cell_type": "markdown",
   "id": "fafdc064",
   "metadata": {},
   "source": [
    "We have passed all the test cases using the newly constructed function. "
   ]
  },
  {
   "cell_type": "markdown",
   "id": "eddb576a",
   "metadata": {},
   "source": [
    "### 9. Analyze the algorithm's complexity and identify inefficiencies, if any."
   ]
  },
  {
   "cell_type": "markdown",
   "id": "8327ea42",
   "metadata": {},
   "source": [
    "Regarding the time complexity, we check all the last position of the rows value compare to the target value. This causes the worst case n times operation. By that action we will pick a desired row to perform binary operation, causing log(m) operation cost where m is the number of elements contains by a row. \n",
    "\n",
    "Therefore, in time complexity, the total cost is in O(log(m) + n) big O notation.\n",
    "\n",
    "Regarding the space complexity, the cost is no change as the memory store the matrix is the same."
   ]
  },
  {
   "cell_type": "code",
   "execution_count": 43,
   "id": "0048155d",
   "metadata": {},
   "outputs": [],
   "source": [
    "Time_complexity = 'O(log(m) + n)'"
   ]
  },
  {
   "cell_type": "code",
   "execution_count": 44,
   "id": "507d4c7e",
   "metadata": {},
   "outputs": [],
   "source": [
    "Space_complexity = 'O(mn)'"
   ]
  },
  {
   "cell_type": "code",
   "execution_count": 45,
   "id": "2458c745",
   "metadata": {},
   "outputs": [
    {
     "data": {
      "application/javascript": [
       "window.require && require([\"base/js/namespace\"],function(Jupyter){Jupyter.notebook.save_checkpoint()})"
      ],
      "text/plain": [
       "<IPython.core.display.Javascript object>"
      ]
     },
     "metadata": {},
     "output_type": "display_data"
    },
    {
     "name": "stdout",
     "output_type": "stream",
     "text": [
      "[jovian] Creating a new project \"sinchunsimon/TwoDimensionMatrixSearchingP\"\n",
      "[jovian] Committed successfully! https://jovian.ai/sinchunsimon/twodimensionmatrixsearchingp\n"
     ]
    },
    {
     "data": {
      "text/plain": [
       "'https://jovian.ai/sinchunsimon/twodimensionmatrixsearchingp'"
      ]
     },
     "execution_count": 45,
     "metadata": {},
     "output_type": "execute_result"
    }
   ],
   "source": [
    "jovian.commit(project=project_name)"
   ]
  },
  {
   "cell_type": "code",
   "execution_count": 1,
   "id": "0d046036",
   "metadata": {},
   "outputs": [],
   "source": [
    "project_name = \"data-structure-and-algorithm-project-by-sinchunhung\""
   ]
  },
  {
   "cell_type": "code",
   "execution_count": 2,
   "id": "6979d958",
   "metadata": {},
   "outputs": [],
   "source": [
    "!pip install jovian --upgrade --quiet"
   ]
  },
  {
   "cell_type": "code",
   "execution_count": 3,
   "id": "e18e19a8",
   "metadata": {},
   "outputs": [],
   "source": [
    "import jovian"
   ]
  },
  {
   "cell_type": "code",
   "execution_count": null,
   "id": "cd8b4537",
   "metadata": {},
   "outputs": [
    {
     "data": {
      "application/javascript": [
       "window.require && require([\"base/js/namespace\"],function(Jupyter){Jupyter.notebook.save_checkpoint()})"
      ],
      "text/plain": [
       "<IPython.core.display.Javascript object>"
      ]
     },
     "metadata": {},
     "output_type": "display_data"
    }
   ],
   "source": [
    "jovian.commit(project=project_name)"
   ]
  },
  {
   "cell_type": "code",
   "execution_count": null,
   "id": "fc789917",
   "metadata": {},
   "outputs": [],
   "source": []
  }
 ],
 "metadata": {
  "language_info": {
   "codemirror_mode": {
    "name": "ipython",
    "version": 3
   },
   "file_extension": ".py",
   "mimetype": "text/x-python",
   "name": "python",
   "nbconvert_exporter": "python",
   "pygments_lexer": "ipython3",
   "version": "3.8.8"
  }
 },
 "nbformat": 4,
 "nbformat_minor": 5
}